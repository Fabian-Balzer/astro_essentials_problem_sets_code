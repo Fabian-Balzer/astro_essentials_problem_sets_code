{
 "cells": [
  {
   "cell_type": "markdown",
   "metadata": {},
   "source": [
    "## Exercise 1"
   ]
  },
  {
   "cell_type": "code",
   "execution_count": 34,
   "metadata": {},
   "outputs": [
    {
     "name": "stdout",
     "output_type": "stream",
     "text": [
      "\\begin{tabular}{lllll}\n",
      "\\toprule\n",
      "   Name &                Mass & Period & Delta_v &        Delta_lambda \\\\\n",
      "\\midrule\n",
      "  Earth & $5.97\\times10^{24}$ &      1 &  0.1651 & $3.61\\times10^{-7}$ \\\\\n",
      "Jupiter & $1.89\\times10^{27}$ &  11.86 &   22.99 & $5.03\\times10^{-5}$ \\\\\n",
      " Saturn & $5.68\\times10^{26}$ &  29.46 &   5.082 & $1.11\\times10^{-5}$ \\\\\n",
      "\\bottomrule\n",
      "\\end{tabular}\n",
      "\n"
     ]
    }
   ],
   "source": [
    "from astropy.constants import M_sun, M_earth, M_jup, G,c\n",
    "from astropy.units import kg, yr, quantity_input, nm\n",
    "from astropy.units.quantity import Quantity\n",
    "import numpy as np\n",
    "import pandas as pd\n",
    "def format_tex(float_number):\n",
    "    if isinstance(float_number, Quantity):\n",
    "        float_number = float_number.to_value()\n",
    "    if not isinstance(float_number, float):\n",
    "        return float_number\n",
    "    exponent = np.floor(np.log10(float_number))\n",
    "    if -2 < exponent < 2:\n",
    "        return f\"{float_number:.4g}\"\n",
    "    mantissa = float_number/10**exponent\n",
    "    mantissa_format = str(mantissa)[0:4]\n",
    "    return \"${0}\\times10^{{{1}}}$\"\\\n",
    "           .format(mantissa_format, str(int(exponent)))\n",
    "\n",
    "@quantity_input(m_planet='mass', m_star='mass', period=\"time\")\n",
    "def calculate_max_vel(m_planet, m_star, period):\n",
    "    frac = G*4*np.pi**2 / ((m_planet+ m_star)**2* period)\n",
    "    return (m_planet * frac**(1/3)).to(\"m/s\")\n",
    "\n",
    "@quantity_input(delta_v=\"velocity\")\n",
    "def calculate_delta_h_alpha(delta_v, rest_wavelength=656.281 * nm):\n",
    "    return (rest_wavelength* delta_v/c).to(\"nm\")\n",
    "\n",
    "M_sat = 5.68e26 * kg\n",
    "P_earth = 1 *yr\n",
    "P_jup = 11.86*yr\n",
    "P_sat = 29.46*yr\n",
    "# Construct dataframe:\n",
    "df = pd.DataFrame({\"Name\": [\"Earth\", \"Jupiter\", \"Saturn\"], \"Mass\": [M_earth.to(\"kg\"), M_jup.to(\"kg\"), M_sat], \"Period\": [P_earth, P_jup, P_sat]})\n",
    "df[\"Delta_v\"] = df.apply(lambda obj: calculate_max_vel(obj[\"Mass\"], M_sun, obj[\"Period\"]), axis=1)\n",
    "df[\"Delta_lambda\"] = df[\"Delta_v\"].apply(calculate_delta_h_alpha)\n",
    "df = df.applymap(lambda x:format_tex(x))\n",
    "print(df.to_latex(index=False, float_format=\"%.2f\", escape=False))"
   ]
  },
  {
   "cell_type": "markdown",
   "metadata": {},
   "source": [
    "## Exercise 2"
   ]
  },
  {
   "cell_type": "code",
   "execution_count": 47,
   "metadata": {},
   "outputs": [
    {
     "name": "stdout",
     "output_type": "stream",
     "text": [
      "\\begin{tabular}{lll}\n",
      "\\toprule\n",
      "   Name &             Radius &                  DM \\\\\n",
      "\\midrule\n",
      "Mercury & $2.43\\times10^{3}$ & $1.33\\times10^{-5}$ \\\\\n",
      "  Earth & $6.37\\times10^{6}$ & $9.12\\times10^{-5}$ \\\\\n",
      "Jupiter & $7.14\\times10^{7}$ & $1.15\\times10^{-2}$ \\\\\n",
      "Neptune & $2.46\\times10^{4}$ & $1.36\\times10^{-3}$ \\\\\n",
      "\\bottomrule\n",
      "\\end{tabular}\n",
      "\n"
     ]
    }
   ],
   "source": [
    "from astropy.constants import R_earth, R_jup, R_sun\n",
    "from astropy.units import km, quantity_input, Quantity\n",
    "import numpy as np\n",
    "import pandas as pd\n",
    "\n",
    "@quantity_input(r_obj=\"length\")\n",
    "def calculate_delta_mag(r_obj) -> Quantity:\n",
    "    \"\"\"Calculate the difference in magnitudes if the object with the\n",
    "    radius r_obj would pass in front of the sun.\"\"\"\n",
    "    return -2.5 *np.log10(1 - r_obj**2/R_sun**2)\n",
    "\n",
    "R_merc = 2439.7*km\n",
    "R_nep = 24622 * km\n",
    "# Construct dataframe:\n",
    "df = pd.DataFrame({\"Name\": [\"Mercury\", \"Earth\", \"Jupiter\", \"Neptune\"], \"Radius\": [R_merc, R_earth, R_jup, R_nep]})\n",
    "df[\"DM\"] = df[\"Radius\"].apply(calculate_delta_mag)\n",
    "df = df.applymap(lambda x:format_tex(x))\n",
    "print(df.to_latex(index=False, float_format=\"%.2f\", escape=False))"
   ]
  },
  {
   "cell_type": "markdown",
   "metadata": {},
   "source": [
    "## Exercise 3"
   ]
  },
  {
   "cell_type": "code",
   "execution_count": 39,
   "metadata": {},
   "outputs": [
    {
     "name": "stdout",
     "output_type": "stream",
     "text": [
      "\\begin{tabular}{lll}\n",
      "\\toprule\n",
      "   Name &                   a &                prob \\\\\n",
      "\\midrule\n",
      "Mercury & $5.79\\times10^{10}$ & $1.20\\times10^{-2}$ \\\\\n",
      "  Earth & $1.49\\times10^{11}$ & $4.65\\times10^{-3}$ \\\\\n",
      "Jupiter & $7.78\\times10^{11}$ & $8.93\\times10^{-4}$ \\\\\n",
      "Neptune & $4.49\\times10^{12}$ & $1.54\\times10^{-4}$ \\\\\n",
      "\\bottomrule\n",
      "\\end{tabular}\n",
      "\n"
     ]
    }
   ],
   "source": [
    "from astropy.constants import au\n",
    "# Taken from https://de.wikipedia.org/wiki/Liste_der_Planeten_des_Sonnensystems\n",
    "a_merc = 0.38709888 * au\n",
    "a_earth = 1* au\n",
    "a_jup = 5.2033623*au\n",
    "a_nep = 30.068960 * au\n",
    "df = pd.DataFrame({\"Name\": [\"Mercury\", \"Earth\", \"Jupiter\", \"Neptune\"], \"a\": [a_merc, a_earth, a_jup, a_nep]})\n",
    "df[\"prob\"] = df[\"a\"].apply(lambda a: R_sun/a)\n",
    "df = df.applymap(lambda x:format_tex(x))\n",
    "print(df.to_latex(index=False, float_format=\"%.2f\", escape=False))"
   ]
  },
  {
   "cell_type": "markdown",
   "metadata": {},
   "source": [
    "## Exercise 4"
   ]
  },
  {
   "cell_type": "code",
   "execution_count": 46,
   "metadata": {},
   "outputs": [
    {
     "name": "stdout",
     "output_type": "stream",
     "text": [
      "12.976464628547822 h\n",
      "\\begin{tabular}{lllll}\n",
      "\\toprule\n",
      "   Name &                   a & t [h] &         Period [h] &         Period_frac \\\\\n",
      "\\midrule\n",
      "Mercury & $5.79\\times10^{10}$ & 8.074 & $2.11\\times10^{3}$ & $3.82\\times10^{-3}$ \\\\\n",
      "  Earth & $1.49\\times10^{11}$ & 12.98 & $8.76\\times10^{3}$ & $1.48\\times10^{-3}$ \\\\\n",
      "Jupiter & $7.78\\times10^{11}$ &  29.6 & $1.04\\times10^{5}$ & $2.84\\times10^{-4}$ \\\\\n",
      "Neptune & $4.49\\times10^{12}$ & 71.16 & $1.44\\times10^{6}$ & $4.92\\times10^{-5}$ \\\\\n",
      "\\bottomrule\n",
      "\\end{tabular}\n",
      "\n"
     ]
    }
   ],
   "source": [
    "@quantity_input(r_star=\"length\", m_star=\"mass\", a_planet=\"length\")\n",
    "def calculate_transit_times(r_star, m_star, a_planet):\n",
    "    return (2*r_star*(a_planet/(G*m_star))**0.5).to(\"h\")\n",
    "\n",
    "@quantity_input( m_star=\"mass\", a_planet=\"length\")\n",
    "def calculate_orbital_period(m_star, a_planet):\n",
    "    return ((4*np.pi**2*a_planet**3 / (G* m_star))**0.5).to(\"h\")\n",
    "\n",
    "print(calculate_transit_times(R_sun, M_sun, au))\n",
    "a_merc = 0.38709888 * au\n",
    "a_earth = 1* au\n",
    "a_jup = 5.2033623*au\n",
    "a_nep = 30.068960 * au\n",
    "df = pd.DataFrame({\"Name\": [\"Mercury\", \"Earth\", \"Jupiter\", \"Neptune\"], \"a\": [a_merc, a_earth, a_jup, a_nep]})\n",
    "df[\"t [h]\"] = df[\"a\"].apply(lambda a: calculate_transit_times(R_sun, M_sun, a))\n",
    "df[\"Period [yr]\"] = df[\"a\"].apply(lambda a: calculate_orbital_period(M_sun, a))\n",
    "df[\"Period_frac\"] = df[\"t [h]\"]/df[\"Period [h]\"]\n",
    "\n",
    "df = df.applymap(lambda x:format_tex(x))\n",
    "print(df.to_latex(index=False, float_format=\"%.2f\", escape=False))"
   ]
  },
  {
   "cell_type": "markdown",
   "metadata": {},
   "source": [
    "## Exercise 6"
   ]
  },
  {
   "cell_type": "code",
   "execution_count": 39,
   "metadata": {},
   "outputs": [
    {
     "name": "stdout",
     "output_type": "stream",
     "text": [
      "\\begin{tabular}{lrrrrrr}\n",
      "\\toprule\n",
      "{} &  H &   He &      O &    Mg &    Si &    Fe \\\\\n",
      "\\midrule\n",
      "Num    &  1 & 0.08 & 0.0007 & 4e-05 & 4e-05 & 3e-05 \\\\\n",
      "Weight &  1 &    4 &     16 &  24.3 &  28.1 &  55.8 \\\\\n",
      "\\bottomrule\n",
      "\\end{tabular}\n",
      "\n"
     ]
    }
   ],
   "source": [
    "import pandas as pd\n",
    "import numpy as np\n",
    "\n",
    "\n",
    "\n",
    "\n",
    "names = np.array([\"H\", \"He\", \"O\", \"Mg\", \"Si\", \"Fe\"])\n",
    "relative_numbers = np.array([1, 8e-2, 7e-4, 4e-5, 4e-5, 3e-5])\n",
    "weights = np.array([1, 4, 16, 24.3, 28.1, 55.8])\n",
    "# df = pd.DataFrame(np.array([names, relative_numbers, weights]).T, columns=[\"Name\", \"Rel\", \"Weight\"])\n",
    "# df.set_index(\"Name\", inplace=True)\n",
    "# df.T\n",
    "df = pd.DataFrame([relative_numbers, weights], columns=names, index=[\"Num\", \"Weight\"])\n",
    "df.head()\n",
    "\n",
    "Mg_2_Si_O_4 = df[\"H\"][\"Weight\"]*2+ df[\"Si\"][\"Weight\"] + df[\"O\"][\"Weight\"]\n",
    "Mg_2_Si_O_4\n",
    "print(df.to_latex(index=True, escape=False, float_format=\"%.3g\"))"
   ]
  }
 ],
 "metadata": {
  "kernelspec": {
   "display_name": "Python 3.9.7 ('base')",
   "language": "python",
   "name": "python3"
  },
  "language_info": {
   "codemirror_mode": {
    "name": "ipython",
    "version": 3
   },
   "file_extension": ".py",
   "mimetype": "text/x-python",
   "name": "python",
   "nbconvert_exporter": "python",
   "pygments_lexer": "ipython3",
   "version": "3.9.7"
  },
  "orig_nbformat": 4,
  "vscode": {
   "interpreter": {
    "hash": "c5ab3584ff79d6e87db4b0d25c39a35464f3ca16ffea8da4e3728b43fa71751c"
   }
  }
 },
 "nbformat": 4,
 "nbformat_minor": 2
}

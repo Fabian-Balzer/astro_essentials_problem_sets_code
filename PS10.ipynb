{
 "cells": [
  {
   "attachments": {},
   "cell_type": "markdown",
   "metadata": {},
   "source": [
    "## Exercise 4\n",
    "\n",
    "(and parts of exercise 5)"
   ]
  },
  {
   "cell_type": "code",
   "execution_count": 2,
   "metadata": {},
   "outputs": [
    {
     "name": "stdout",
     "output_type": "stream",
     "text": [
      "\\begin{tabular}{lll}\n",
      "\\toprule\n",
      "{} &           0 &           1 \\\\\n",
      "\\midrule\n",
      "Cluster    &       Virgo &        Coma \\\\\n",
      "distance   &          17 &          90 \\\\\n",
      "angle      &          10 &           4 \\\\\n",
      "L          & $1.200e+12$ & $5.000e+12$ \\\\\n",
      "sigma      &         670 &         980 \\\\\n",
      "Lx         & $1.500e+43$ & $5.000e+44$ \\\\\n",
      "Tx         & $7.000e+07$ & $8.800e+07$ \\\\\n",
      "R          & $1.487e+00$ & $3.143e+00$ \\\\\n",
      "Mvir       & $7.762e+14$ & $3.509e+15$ \\\\\n",
      "Mlum       & $3.600e+12$ & $1.500e+13$ \\\\\n",
      "Mvir/Mlum  & $2.156e+02$ & $2.339e+02$ \\\\\n",
      "ne         & $5.583e-05$ & $9.910e-05$ \\\\\n",
      "Mx         & $1.902e+13$ & $3.185e+14$ \\\\\n",
      "Mbary/Mvir & $2.914e-02$ & $9.504e-02$ \\\\\n",
      "Etherm     & $3.277e+62$ & $6.900e+63$ \\\\\n",
      "Lifetime   & $6.923e+11$ & $4.373e+11$ \\\\\n",
      "Cross_time & $2.171e+09$ & $3.136e+09$ \\\\\n",
      "\\bottomrule\n",
      "\\end{tabular}\n",
      "\n",
      "0    53.255213\n",
      "1    33.639508\n",
      "Name: Lifetime, dtype: float64\n",
      "0    0.166966\n",
      "1    0.241215\n",
      "Name: Cross_time, dtype: float64\n"
     ]
    }
   ],
   "source": [
    "import pandas as pd\n",
    "import numpy as np\n",
    "from astropy.units import Mpc, km, s, erg, K, L_sun, cm, g, kpc\n",
    "from astropy.constants import G, m_p, k_B\n",
    "\n",
    "# Very quick and dirty script, please don't try at home!\n",
    "# Would be better to work with astropy Tables to keep track of the units. Sorrey!\n",
    "\n",
    "data = {\n",
    "    \"Cluster\": [\"Virgo\", \"Coma\"],\n",
    "    \"distance\": [17, 90],\n",
    "    \"angle\": [10, 4],\n",
    "    \"L\": [1.2e12, 5e12],\n",
    "    \"sigma\": [670, 980],\n",
    "    \"Lx\": [1.5e43, 5e44],\n",
    "    \"Tx\": [7e7, 8.8e7]\n",
    "}\n",
    "\n",
    "def calc_R(objs) -> float:\n",
    "    dist, angle = objs\n",
    "    angle = angle/2\n",
    "    return dist*np.tan(np.deg2rad(angle))\n",
    "\n",
    "def calc_Mvir(objs) -> float:\n",
    "    \"\"\"Calculate the virial mass using the given formula, in solar masses.\"\"\"\n",
    "    sig, r = objs\n",
    "    sig *= km/s\n",
    "    r *= Mpc\n",
    "    return (sig**2*5*r/G).to_value(\"Msun\")\n",
    "\n",
    "def calc_ne(objs):\n",
    "    Lx, Tx, r = objs\n",
    "    Lx *= erg/s\n",
    "    Tx *= K\n",
    "    r *= Mpc\n",
    "    alph = 5.95e-27 * cm**5*g/s**3/K**0.5\n",
    "    return np.sqrt(Lx/(alph*r**3*np.sqrt(Tx))).to_value(\"cm**(-3)\")\n",
    "\n",
    "def calc_Mx(objs):\n",
    "    n_e, r = objs\n",
    "    n_e *= cm**(-3)\n",
    "    r *= Mpc\n",
    "    return (4/3*np.pi*r**3*n_e*m_p).to_value(\"Msun\")\n",
    "\n",
    "def calc_Etherm(objs):\n",
    "    n_e, Tx, r = objs\n",
    "    n_e *= cm**(-3)\n",
    "    Tx *= K\n",
    "    r *= Mpc\n",
    "    return (3/2*k_B*Tx*n_e*4/3*np.pi*r**3).to_value(\"erg\")\n",
    "\n",
    "def calc_tau(objs):\n",
    "    Etherm, Lx = objs\n",
    "    Lx *= erg/s\n",
    "    Etherm *= erg\n",
    "    return (Etherm/Lx).to_value(\"yr\")\n",
    "\n",
    "def calc_crossing_time(objs):\n",
    "    sig, r = objs\n",
    "    sig *= km/s\n",
    "    r *= Mpc\n",
    "    return (r/sig).to_value(\"yr\")\n",
    "\n",
    "mass_to_light_ratio = 3\n",
    "\n",
    "age_of_universe= 13e9  # around 13 Gyr\n",
    "\n",
    "df = pd.DataFrame(data)\n",
    "df[\"R\"] = df[[\"distance\", \"angle\"]].apply(calc_R, axis=1)  # The radius of the cluster\n",
    "df[\"Mvir\"] = df[[\"sigma\", \"R\"]].apply(calc_Mvir, axis=1)  # The virial mass of the cluster\n",
    "df[\"Mlum\"] = df[\"L\"] * mass_to_light_ratio  # The luminous stellar mass of the cluster\n",
    "df[\"Mvir/Mlum\"] = df[\"Mvir\"] / df[\"Mlum\"]  # the ratio between virial and luminous mass\n",
    "df[\"ne\"] = df[[\"Lx\", \"Tx\", \"R\"]].apply(calc_ne, axis=1)  # The electron density\n",
    "df[\"Mx\"] = df[[\"ne\", \"R\"]].apply(calc_Mx, axis=1)  # The X-ray mass\n",
    "df[\"Mbary/Mvir\"] = ( df[\"Mlum\"] + df[\"Mx\"]) /  df[\"Mvir\"]  # The DM ratio\n",
    "df[\"Etherm\"] = df[[\"ne\", \"Tx\", \"R\"]].apply(calc_Etherm, axis=1)  # The thermal energy in ergs\n",
    "df[\"Lifetime\"] = df[[\"Etherm\", \"Lx\"]].apply(calc_tau, axis=1)  # The lifetime in yr\n",
    "df[\"Cross_time\"] = df[[\"sigma\", \"R\"]].apply(calc_crossing_time, axis=1)\n",
    "\n",
    "print(df.T.to_latex(float_format=\"${:.3e}$\".format, escape=False))\n",
    "print(df[\"Lifetime\"]/age_of_universe)\n",
    "print(df[\"Cross_time\"]/age_of_universe)"
   ]
  },
  {
   "cell_type": "code",
   "execution_count": 8,
   "metadata": {},
   "outputs": [
    {
     "name": "stdout",
     "output_type": "stream",
     "text": [
      "diameter = 3.0 Mpc, vel = 670 km / s --> time = 4.38e+09 yr\n",
      "diameter = 6.2 Mpc, vel = 980 km / s --> time = 6.19e+09 yr\n",
      "diameter = 100.0 Mpc, vel = 1000 km / s --> time = 9.78e+10 yr\n",
      "diameter = 10.0 kpc, vel = 250 km / s --> time = 3.91e+07 yr\n",
      "diameter = 100.0 kpc, vel = 250 km / s --> time = 3.91e+08 yr\n"
     ]
    }
   ],
   "source": [
    "radii_and_vel_disps = [(1.5*Mpc*2, 670 *km/s),  # Virgo\n",
    "(3.1*Mpc*2, 980 * km/s), # Coma\n",
    "(100 * Mpc, 1000 * km/s), # Superclusters\n",
    "(10 * kpc, 250 * km/s), # Ellipticals\n",
    "(100 * kpc, 250 *km/s)\n",
    "]\n",
    "for diameter, vel in radii_and_vel_disps:\n",
    "    time = (diameter /vel).to(\"yr\")\n",
    "    print(f\"{diameter = :.1f}, {vel = :.0f} --> {time = :.2e}\")"
   ]
  }
 ],
 "metadata": {
  "kernelspec": {
   "display_name": "base",
   "language": "python",
   "name": "python3"
  },
  "language_info": {
   "codemirror_mode": {
    "name": "ipython",
    "version": 3
   },
   "file_extension": ".py",
   "mimetype": "text/x-python",
   "name": "python",
   "nbconvert_exporter": "python",
   "pygments_lexer": "ipython3",
   "version": "3.9.7"
  },
  "orig_nbformat": 4,
  "vscode": {
   "interpreter": {
    "hash": "c5ab3584ff79d6e87db4b0d25c39a35464f3ca16ffea8da4e3728b43fa71751c"
   }
  }
 },
 "nbformat": 4,
 "nbformat_minor": 2
}

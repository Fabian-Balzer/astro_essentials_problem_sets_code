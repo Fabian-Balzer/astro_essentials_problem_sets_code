{
 "cells": [
  {
   "cell_type": "markdown",
   "metadata": {},
   "source": [
    "## Exercise 1:\n",
    "\n",
    "Plotting some Planck curves..."
   ]
  },
  {
   "cell_type": "code",
   "execution_count": 58,
   "metadata": {},
   "outputs": [
    {
     "name": "stderr",
     "output_type": "stream",
     "text": [
      "C:\\Users\\fabia\\AppData\\Local\\Temp/ipykernel_5640/45764475.py:23: RuntimeWarning: divide by zero encountered in true_divide\n",
      "  freq_to_wl = lambda nu: c.to_value()/nu\n",
      "C:\\Users\\fabia\\AppData\\Local\\Temp/ipykernel_5640/45764475.py:47: MatplotlibDeprecationWarning: savefig() got unexpected keyword argument \"tight_layout\" which is no longer supported as of 3.3 and will become an error two minor releases later\n",
      "  fig.savefig(\"../ps3_01_planck_curve.png\", tight_layout=True)\n"
     ]
    },
    {
     "data": {
      "image/png": "[encoded data removed]",
      "text/plain": [
       "<Figure size 432x288 with 1 Axes>"
      ]
     },
     "metadata": {
      "needs_background": "light"
     },
     "output_type": "display_data"
    }
   ],
   "source": [
    "from astropy.constants import h, k_B, c\n",
    "from astropy.units import K, Hz\n",
    "import matplotlib.pyplot as plt\n",
    "import numpy as np\n",
    "\n",
    "\n",
    "def planck_for_freq(nu, T=5500*K):\n",
    "    frac = (2*h*nu**3)/(c**2)\n",
    "    denom = np.exp(h*nu/(k_B * T)) - 1\n",
    "    return frac * 1 / denom\n",
    "\n",
    "def planck_for_wavelength(lam, T=5500*K):\n",
    "    frac = (2*h*c**2)/(lam**5)\n",
    "    denom = np.exp(h*c/(lam*k_B * T)) - 1\n",
    "    return frac * 1 / denom\n",
    "\n",
    "def calc_wien_lambda(T=5500):\n",
    "    return 0.00289777/T\n",
    "\n",
    "def calc_wien_nu(T=5500):\n",
    "    return 58.789e9*T\n",
    "\n",
    "freq_to_wl = lambda nu: c.to_value()/nu\n",
    "wl_to_freq = lambda lam: c.to_value()/lam \n",
    "\n",
    "nu_data = np.logspace(13, 15.5, 500)*Hz\n",
    "lambda_data = c/nu_data\n",
    "\n",
    "b_nu = planck_for_freq(nu_data)\n",
    "b_lambda = planck_for_wavelength(lambda_data)\n",
    "b_nu = b_nu/b_nu.max()\n",
    "b_lambda= b_lambda/b_lambda.max()\n",
    "\n",
    "fig, ax = plt.subplots()\n",
    "ax.set_xscale(\"log\")\n",
    "ax.plot(lambda_data*1e6, b_lambda, label=r\"$B_\\lambda$\")\n",
    "ax2 = ax.secondary_xaxis('top', functions=(wl_to_freq, freq_to_wl))\n",
    "ax2.set_xlabel(r\"$\\nu$ [MHz]\")\n",
    "ax.plot(lambda_data*1e6, b_nu, label=r\"$B_\\nu$\")\n",
    "ax.set_xlabel(r\"$\\lambda$ [$\\mu$m]\")\n",
    "ax.set_ylabel(\"$B$ [arb. units]\")\n",
    "ax.axvline(calc_wien_lambda()*1e6, color=\"k\", label=f\"$\\lambda={calc_wien_lambda()*1e6:.2f}$ $\\mu$m\")\n",
    "ax.axvline(freq_to_wl(calc_wien_nu())*1e6, color=\"r\", label=f\"$\\\\nu={calc_wien_nu()*1e-12:.2f}$ THz $={freq_to_wl(calc_wien_nu())*1e6:.2f}$ $\\mu$m\")\n",
    "fig.legend(loc=2, bbox_to_anchor=(0.5,1), bbox_transform=ax.transAxes)\n",
    "ax.set_title(\"Planck function for blackbody with $T=5500$ K\")\n",
    "fig.tight_layout(rect=[0, 0.03, 1, 0.95])\n",
    "fig.savefig(\"../ps3_01_planck_curve.png\", tight_layout=True)"
   ]
  },
  {
   "cell_type": "markdown",
   "metadata": {},
   "source": [
    "## Exercise 2"
   ]
  },
  {
   "cell_type": "code",
   "execution_count": 32,
   "metadata": {},
   "outputs": [
    {
     "name": "stdout",
     "output_type": "stream",
     "text": [
      "The Black hole luminosity is $92.45947803515024 L_\\odot$\n",
      "\\begin{tabular}{lrrrr}\n",
      "\\toprule\n",
      "        Type & $L$ [$L_\\odot$] & $L$ [ergs/s] & $L/L_\\tx{acc}$ & $\\lambda_\\tx{obs}$ \\\\\n",
      "\\midrule\n",
      "     T Tauri &        0.078498 &    3.005e+32 &       0.000849 &        1341.335491 \\\\\n",
      " White dwarf &        0.133447 &    5.108e+32 &       0.001443 &          83.063493 \\\\\n",
      "Neutron star &     3058.226758 &    1.171e+37 &      33.076401 &           0.255952 \\\\\n",
      "\\bottomrule\n",
      "\\end{tabular}\n",
      "\n"
     ]
    }
   ],
   "source": [
    "from astropy.units import R_sun, M_sun, yr, km\n",
    "from astropy.constants import G, sigma_sb, c\n",
    "import numpy as np\n",
    "import pandas as pd\n",
    "\n",
    "\n",
    "def disc_lumin(m, m_dot, r_min, unit=\"L_sun\"):\n",
    "    return (G*m*m_dot/(r_min*R_sun)/2*M_sun*M_sun/yr).to_value(unit)\n",
    "\n",
    "def highest_temp(m, m_dot, r):\n",
    "    return ((G*m*M_sun*m_dot*M_sun/yr/(r*R_sun)**3/sigma_sb/8/np.pi)**(1/4)).to_value(\"K\")\n",
    "\n",
    "def accretion_lumin(m_dot, eta=1/16):\n",
    "    return (eta*m_dot*M_sun/yr*c**2).to_value(\"L_sun\")\n",
    "    \n",
    "\n",
    "masses = np.array([1, 0.85, 1.4])\n",
    "radii = np.array([2, 0.01, 10*km/R_sun])\n",
    "acc_rates = np.array([1e-8, 1e-10, 2e-9])\n",
    "names = [\"T Tauri\", \"White dwarf\", \"Neutron star\"]\n",
    "df = pd.DataFrame(np.array([names, masses, radii, acc_rates]).T, columns=[\"Name\", \"Mass\", \"Radius\", \"Accretion rate\"])\n",
    "df[\"L_L_sun\"] = df.apply(lambda x: disc_lumin(x[\"Mass\"], x[\"Accretion rate\"], x[\"Radius\"]), 1)\n",
    "df[\"L_ergs_per_sec\"] = df.apply(lambda x: disc_lumin(x[\"Mass\"], x[\"Accretion rate\"], x[\"Radius\"], unit=\"erg/s\"), 1)\n",
    "df[\"T\"] = df.apply(lambda x: highest_temp(x[\"Mass\"], x[\"Accretion rate\"], x[\"Radius\"]), 1)\n",
    "L_ACC = accretion_lumin(1e-10)\n",
    "print(f\"The Black hole luminosity is ${L_ACC} L_\\\\odot$\")\n",
    "df[\"L_ACC\"] = df[\"L_L_sun\"]/L_ACC\n",
    "df[\"Obs_WL [nm]\"] = 2.89777e-3 / df[\"T\"] * 1e9\n",
    "df.head()\n",
    "good_cols = [\"Name\",  \"L_L_sun\", \"L_ergs_per_sec\", \"L_ACC\", \"Obs_WL [nm]\"]\n",
    "new_names = [\"Type\", \"$L$ [$L_\\odot$]\", \"$L$ [ergs/s]\", r\"$L/L_\\tx{acc}$\", r\"$\\lambda_\\tx{obs}$\"]\n",
    "print(df[good_cols].to_latex(index=False, header=new_names, escape=False, formatters={\"L_ergs_per_sec\": lambda s: f\"{s:.4g}\"}))"
   ]
  },
  {
   "cell_type": "markdown",
   "metadata": {},
   "source": [
    "## Exercise 4\n",
    "\n",
    "Cloud free-fall time"
   ]
  },
  {
   "cell_type": "code",
   "execution_count": 66,
   "metadata": {},
   "outputs": [
    {
     "name": "stdout",
     "output_type": "stream",
     "text": [
      "The free-fall time of the cloud is 10.53 Myr.\n"
     ]
    }
   ],
   "source": [
    "from astropy.constants import G\n",
    "from astropy.units import g, cm\n",
    "\n",
    "def t_ff(rho_0):\n",
    "    return np.sqrt(3*np.pi/(32*G*rho_0))\n",
    "\n",
    "rho_0_cloud = 4e-23*g/cm**3\n",
    "\n",
    "print(f\"The free-fall time of the cloud is {t_ff(rho_0_cloud).to_value(unit='Myr'):.2f} Myr.\")"
   ]
  },
  {
   "cell_type": "markdown",
   "metadata": {},
   "source": [
    "## Exercise 5"
   ]
  },
  {
   "cell_type": "code",
   "execution_count": 7,
   "metadata": {},
   "outputs": [
    {
     "name": "stdout",
     "output_type": "stream",
     "text": [
      "Normalization constant w. r. t. mass: 185.35580124054704\n",
      "Total luminosity: $L=1.96e+05 L_\\odot$\n",
      "Fraction of luminosity of stars with $m>5M_\\odot$: $\\eta=0.97$\n",
      "The total number of sources is around $N=3071.4$\n",
      "N massive = 13.2\n",
      "The fraction of sources more massive than 5 solar masses is around $N=0.0043$\n",
      "The mean mass is 0.33 solar masses\n",
      "L of aged cluster = 1475.3\n",
      "After 1 Gyr with m_max=3.16, 0.75 %\n"
     ]
    }
   ],
   "source": [
    "M_0 = 0.1\n",
    "M_1 = 20\n",
    "ALPHA = 2.35\n",
    "M_TOT = 1e3\n",
    "\n",
    "def calculate_const(m_0=M_0, m_1=M_1, m_tot=M_TOT):\n",
    "    exponent = (2-ALPHA)\n",
    "    return exponent*m_tot/(m_1**exponent - m_0**exponent)\n",
    "\n",
    "A = calculate_const()\n",
    "\n",
    "def calculate_luminosity(m_0=M_0, m_1=M_1):\n",
    "    \"\"\"Return the initial luminosity according to IMF\"\"\"\n",
    "    exponent = (5-ALPHA)\n",
    "    return A/exponent*(m_1**exponent - m_0**exponent)\n",
    "\n",
    "\n",
    "def calculate_number(m_0=M_0, m_1=M_1):\n",
    "    \"\"\"Return the initial luminosity according to IMF\"\"\"\n",
    "    exponent = (1-ALPHA)\n",
    "    return A/exponent*(m_1**exponent - m_0**exponent)\n",
    "\n",
    "L_TOT = calculate_luminosity()\n",
    "L_MASSIVE = calculate_luminosity(m_0=5)\n",
    "L_FRAC = L_MASSIVE/L_TOT\n",
    "print(f\"Normalization constant w. r. t. mass: {A}\")\n",
    "print(f\"Total luminosity: $L={L_TOT:.3g} L_\\\\odot$\")\n",
    "print(f\"Fraction of luminosity of stars with $m>5M_\\\\odot$: $\\\\eta={L_FRAC:.2f}$\")\n",
    "N_TOT = calculate_number()\n",
    "print(f\"The total number of sources is around $N={N_TOT:.1f}$\")\n",
    "N_MASSIVE = calculate_number(m_0=5)\n",
    "print(f\"N massive = {N_MASSIVE:.1f}\")\n",
    "print(f\"The fraction of sources more massive than 5 solar masses is around $N={N_MASSIVE/N_TOT:.4f}$\")\n",
    "print(f\"The mean mass is {M_TOT/N_TOT:.2f} solar masses\")\n",
    "L_AGED = calculate_luminosity(m_1=3.16)\n",
    "print(f\"L of aged cluster = {L_AGED:.1f}\")\n",
    "print(f\"After 1 Gyr with m_max=3.16, {L_AGED/L_TOT*100:.2f} %\")\n"
   ]
  }
 ],
 "metadata": {
  "kernelspec": {
   "display_name": "Python 3.9.7 ('base')",
   "language": "python",
   "name": "python3"
  },
  "language_info": {
   "codemirror_mode": {
    "name": "ipython",
    "version": 3
   },
   "file_extension": ".py",
   "mimetype": "text/x-python",
   "name": "python",
   "nbconvert_exporter": "python",
   "pygments_lexer": "ipython3",
   "version": "3.9.7"
  },
  "orig_nbformat": 4,
  "vscode": {
   "interpreter": {
    "hash": "c5ab3584ff79d6e87db4b0d25c39a35464f3ca16ffea8da4e3728b43fa71751c"
   }
  }
 },
 "nbformat": 4,
 "nbformat_minor": 2
}

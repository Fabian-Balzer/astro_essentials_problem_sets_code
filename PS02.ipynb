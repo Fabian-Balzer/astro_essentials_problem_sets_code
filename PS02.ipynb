{
 "cells": [
  {
   "cell_type": "markdown",
   "metadata": {},
   "source": [
    "# Exercise 1 b)"
   ]
  },
  {
   "cell_type": "code",
   "execution_count": 1,
   "metadata": {},
   "outputs": [
    {
     "data": {
      "image/png": "[encoded data removed]",
      "text/plain": [
       "<Figure size 648x288 with 6 Axes>"
      ]
     },
     "metadata": {
      "needs_background": "light"
     },
     "output_type": "display_data"
    }
   ],
   "source": [
    "import numpy as np\n",
    "import matplotlib.pyplot as plt\n",
    "from math import ceil\n",
    "\n",
    "def calculate_intensity(I_0, tau, B=2):\n",
    "    \"\"\"Calculates the intensity after the pass through a layer of thickness\n",
    "    tau, assuming an isothermal sphere\"\"\"\n",
    "    return B + (I_0-B)*np.exp(-tau)\n",
    "\n",
    "\n",
    "tau_array = np.arange(0, 11, 1)\n",
    "I_0_array = np.arange(0, 5, 1)\n",
    "nrows = 2\n",
    "ncols = ceil(len(I_0_array) / nrows)\n",
    "fig, axes = plt.subplots(nrows, ncols, figsize=(3*ncols, 2*nrows), sharey=True, sharex=True, gridspec_kw={\"wspace\": 0.05, \"hspace\": 0.05})\n",
    "for i, I_0 in enumerate(I_0_array):\n",
    "    row = 0 if i < 3 else 1\n",
    "    col = i if i < 3 else i -3\n",
    "    ax = axes[row][col]\n",
    "    ax.plot(tau_array, calculate_intensity(I_0, tau_array), label=r\"$I(0)=\" + str(I_0) + \"$\")\n",
    "    ax.set_xlabel(r\"$\\tau$\")\n",
    "    if col == 0:\n",
    "        ax.set_ylabel(r\"$I_{\\rm tot}$\")\n",
    "    ax.grid(True)\n",
    "    ax.legend()\n",
    "for ax in fig.get_axes():\n",
    "    if len(ax.get_lines()) == 0:\n",
    "        ax.set_visible(False)\n",
    "fig.suptitle(\"Emergent total intensities for different initial intensities, $B=2$\")\n",
    "fig.savefig(\"../ps02_01_intensities\", bbox_inches=\"tight\")"
   ]
  },
  {
   "cell_type": "markdown",
   "metadata": {},
   "source": [
    "# Exercise 4"
   ]
  },
  {
   "cell_type": "code",
   "execution_count": 64,
   "metadata": {},
   "outputs": [
    {
     "name": "stdout",
     "output_type": "stream",
     "text": [
      "\\begin{tabular}{llrrrr}\n",
      "\\toprule\n",
      "       Phase &                                 Where to find them & $n$ [cm$^{-3}$] & $T$ [K] & P [K $k_\\tx{B}$cm$^{-3}$] &  $E$ eV \\\\\n",
      "\\midrule\n",
      "   Molecular &                               Star formation sites &         300.000 &      10 &                    3000.0 &  0.0013 \\\\\n",
      " Cold atomic &                               Sheets and filaments &          50.000 &      80 &                    4000.0 &  0.0103 \\\\\n",
      " Warm atomic & Photodissociation regions on the boundaries of ... &           0.500 &    8000 &                    4000.0 &  1.0341 \\\\\n",
      "Warm ionised & Photo- and collisionally ionised near O and B s... &           0.300 &    8000 &                    2400.0 &  1.0341 \\\\\n",
      " Hot ionised &            Near star formation regions, around SNe &           0.003 &  500000 &                    1500.0 & 64.6300 \\\\\n",
      "\\bottomrule\n",
      "\\end{tabular}\n",
      "\n"
     ]
    }
   ],
   "source": [
    "import pandas as pd\n",
    "from astropy.constants import k_B, m_p\n",
    "\n",
    "def get_pressure(n, temp):\n",
    "    return  n * temp #*k_B.to_value() \n",
    "\n",
    "def get_mean_energy(temp_in_K: float, dof=3) -> float:\n",
    "    \"\"\"Return the energy in eV\"\"\"\n",
    "    return dof/2 * k_B.to_value(unit=\"eV/K\") * temp_in_K\n",
    "\n",
    "df = pd.read_csv(\"./data/PS02_04_input_table.txt\", delim_whitespace=True, header=None, names=[\"type\", \"n\", \"T\", \"M\", \"fill_fac\", \"P\"])\n",
    "\n",
    "df[\"type\"] = df[\"type\"].apply(lambda x: x.capitalize().replace(\"_\", \" \"))\n",
    "df[\"n\"] = df[\"n\"].apply(eval)\n",
    "df[\"T\"] = df[\"T\"].apply(eval)\n",
    "df[\"E\"] = df[\"T\"].apply(get_mean_energy)\n",
    "df[\"P\"] = df.apply(lambda x: get_pressure(x[\"n\"], x[\"T\"]), axis=1)\n",
    "sites = [\"Star formation sites\", \"Sheets and filaments\", \"Photodissociation regions on the boundaries of HII regions and MCs\", \"Photo- and collisionally ionised near O and B stars\", \"Near star formation regions, around SNe\"]\n",
    "df[\"Sites\"] = sites\n",
    "good_cols = [\"type\", \"Sites\",  \"n\", \"T\", \"P\", \"E\"]\n",
    "new_names = [\"Phase\", \"Where to find them\", r\"$n$ [cm$^{-3}$]\", \"$T$ [K]\", r\"P [K $k_\\tx{B}$cm$^{-3}$]\", \"$E$ eV\"]\n",
    "print(df[good_cols].to_latex(index=False, header=new_names, escape=False, formatters={\"E\": lambda s: f\"{s:.4f}\"}))"
   ]
  },
  {
   "cell_type": "code",
   "execution_count": 68,
   "metadata": {},
   "outputs": [
    {
     "name": "stdout",
     "output_type": "stream",
     "text": [
      "\\begin{tabular}{lrrr}\n",
      "\\toprule\n",
      "       Phase & $T$ [K] & $\\mu$ & $c_s$ [km/s] \\\\\n",
      "\\midrule\n",
      "   Molecular &      10 &   1.0 &       0.3709 \\\\\n",
      " Cold atomic &      80 &   1.0 &       1.0491 \\\\\n",
      " Warm atomic &    8000 &   1.0 &      10.4909 \\\\\n",
      "Warm ionised &    8000 &   0.5 &      14.8364 \\\\\n",
      " Hot ionised &  500000 &   0.5 &     117.2917 \\\\\n",
      "\\bottomrule\n",
      "\\end{tabular}\n",
      "\n"
     ]
    }
   ],
   "source": [
    "def get_sound_speed(mu, temp, dof=3):\n",
    "    num = (1+2/dof)*k_B.to_value() * temp\n",
    "    denom = mu*m_p.to_value(unit=\"kg\")\n",
    "    frac = num/denom\n",
    "    return np.sqrt(frac)/1000\n",
    "df[\"mu\"] = df[\"type\"].apply(lambda x: 1/2 if \"ionised\" in x else 1)\n",
    "df[\"cs\"] = df.apply(lambda x: get_sound_speed(x[\"mu\"], x[\"T\"]), axis=1)\n",
    "good_cols = [\"type\",  \"T\", \"mu\", \"cs\"]\n",
    "new_names = [\"Phase\", \"$T$ [K]\", \"$\\mu$\", \"$c_s$ [km/s]\"]\n",
    "print(df[good_cols].to_latex(index=False, header=new_names, escape=False, formatters={\"cs\": lambda s: f\"{s:.4f}\"}))"
   ]
  }
 ],
 "metadata": {
  "kernelspec": {
   "display_name": "Python 3.9.7 ('base')",
   "language": "python",
   "name": "python3"
  },
  "language_info": {
   "codemirror_mode": {
    "name": "ipython",
    "version": 3
   },
   "file_extension": ".py",
   "mimetype": "text/x-python",
   "name": "python",
   "nbconvert_exporter": "python",
   "pygments_lexer": "ipython3",
   "version": "3.9.7"
  },
  "orig_nbformat": 4,
  "vscode": {
   "interpreter": {
    "hash": "c5ab3584ff79d6e87db4b0d25c39a35464f3ca16ffea8da4e3728b43fa71751c"
   }
  }
 },
 "nbformat": 4,
 "nbformat_minor": 2
}
